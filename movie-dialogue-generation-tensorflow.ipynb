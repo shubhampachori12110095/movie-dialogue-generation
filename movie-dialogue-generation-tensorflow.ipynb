{
 "cells": [
  {
   "cell_type": "code",
   "execution_count": null,
   "metadata": {
    "collapsed": true
   },
   "outputs": [],
   "source": [
    "import tensorflow as tf\n",
    "import numpy as np"
   ]
  },
  {
   "cell_type": "code",
   "execution_count": null,
   "metadata": {},
   "outputs": [],
   "source": [
    "tf.__version__"
   ]
  },
  {
   "cell_type": "code",
   "execution_count": null,
   "metadata": {
    "collapsed": true
   },
   "outputs": [],
   "source": [
    "dialogues_path = \"./data/movie_lines.txt\""
   ]
  },
  {
   "cell_type": "markdown",
   "metadata": {},
   "source": [
    "### Read data"
   ]
  },
  {
   "cell_type": "code",
   "execution_count": null,
   "metadata": {
    "collapsed": true
   },
   "outputs": [],
   "source": [
    "EOS_TOKEN = \"</s>\""
   ]
  },
  {
   "cell_type": "code",
   "execution_count": null,
   "metadata": {
    "collapsed": true
   },
   "outputs": [],
   "source": [
    "dialogue_lines = list()\n",
    "with open(dialogues_path) as dialogues_file:\n",
    "    for line in dialogues_file:\n",
    "        line = line.strip().lower()\n",
    "        split_line = line.split(' +++$+++ ')\n",
    "        dialogue_lines.append(split_line[4] + \" \" + EOS_TOKEN)"
   ]
  },
  {
   "cell_type": "code",
   "execution_count": null,
   "metadata": {},
   "outputs": [],
   "source": [
    "dialogue_lines[:10]"
   ]
  },
  {
   "cell_type": "markdown",
   "metadata": {},
   "source": [
    "### Get language stats"
   ]
  },
  {
   "cell_type": "code",
   "execution_count": null,
   "metadata": {
    "collapsed": true
   },
   "outputs": [],
   "source": [
    "# from nltk.tokenize import word_tokenize"
   ]
  },
  {
   "cell_type": "code",
   "execution_count": null,
   "metadata": {
    "collapsed": true
   },
   "outputs": [],
   "source": [
    "def text_to_sequences(dialogue_lines):\n",
    "    \n",
    "    word_to_index_map = {EOS_TOKEN: 1}\n",
    "    index_to_word_map = {1: EOS_TOKEN}\n",
    "    index = 3\n",
    "    max_sequence_length = 0\n",
    "    \n",
    "    dialogue_sequences = list()\n",
    "    \n",
    "    for line in dialogue_lines:\n",
    "        dialogue_sequence = list()\n",
    "        tokens = line.split()\n",
    "        for token in tokens:\n",
    "            if token in word_to_index_map:\n",
    "                dialogue_sequence.append(word_to_index_map[token])\n",
    "            else:\n",
    "                word_to_index_map[token] = index\n",
    "                index_to_word_map[index] = token\n",
    "                dialogue_sequence.append(index)\n",
    "                index += 1\n",
    "        \n",
    "        if max_sequence_length < len(dialogue_sequence):\n",
    "            max_sequence_length = len(dialogue_sequence)\n",
    "        \n",
    "        dialogue_sequences.append(np.asarray(dialogue_sequence))\n",
    "                \n",
    "    return np.asarray(dialogue_sequences), word_to_index_map, index_to_word_map, max_sequence_length"
   ]
  },
  {
   "cell_type": "code",
   "execution_count": null,
   "metadata": {
    "collapsed": true
   },
   "outputs": [],
   "source": [
    "sequences, word_to_index_map, index_to_word_map, max_sequence_length = text_to_sequences(dialogue_lines)"
   ]
  },
  {
   "cell_type": "code",
   "execution_count": null,
   "metadata": {},
   "outputs": [],
   "source": [
    "max_sequence_length"
   ]
  },
  {
   "cell_type": "code",
   "execution_count": null,
   "metadata": {
    "collapsed": true
   },
   "outputs": [],
   "source": [
    "padded_sequences = list()\n",
    "for dialogue_sequence in sequences:\n",
    "    padded_sequence = \\\n",
    "        np.concatenate((dialogue_sequence, \n",
    "                        np.zeros(max_sequence_length - len(dialogue_sequence))))\n",
    "    padded_sequence = tf.convert_to_tensor(padded_sequence, dtype=tf.int32)\n",
    "    padded_sequences.append(padded_sequence)\n",
    "    \n",
    "padded_sequences = tf.convert_to_tensor(padded_sequences)"
   ]
  },
  {
   "cell_type": "code",
   "execution_count": null,
   "metadata": {},
   "outputs": [],
   "source": [
    "print(len(sequences), sequences[0].shape)"
   ]
  },
  {
   "cell_type": "code",
   "execution_count": null,
   "metadata": {},
   "outputs": [],
   "source": [
    "MAX_SEQUENCE_LENGTH = max([len(sequence) for sequence in sequences])\n",
    "print(MAX_SEQUENCE_LENGTH)"
   ]
  },
  {
   "cell_type": "code",
   "execution_count": null,
   "metadata": {
    "collapsed": true
   },
   "outputs": [],
   "source": [
    "# word_to_index_map, index_to_word_map"
   ]
  },
  {
   "cell_type": "code",
   "execution_count": null,
   "metadata": {},
   "outputs": [],
   "source": [
    "VOCAB_SIZE = len(word_to_index_map)\n",
    "print(\"VOCAB_SIZE: \" + str(VOCAB_SIZE))\n",
    "EMBEDDING_SIZE = 50"
   ]
  },
  {
   "cell_type": "markdown",
   "metadata": {},
   "source": [
    "## Build computational graph"
   ]
  },
  {
   "cell_type": "markdown",
   "metadata": {},
   "source": [
    "### Define the computational graph in Tensorflow"
   ]
  },
  {
   "cell_type": "code",
   "execution_count": null,
   "metadata": {},
   "outputs": [],
   "source": [
    "tf.reset_default_graph()\n",
    "\n",
    "# Initialize input placeholders\n",
    "input_text = tf.placeholder(tf.int32, [1, None], name='input')\n",
    "targets = tf.placeholder(tf.int32, [1, None], name='targets')\n",
    "print(input_text)\n",
    "print(targets)\n",
    "\n",
    "input_text_shape = tf.shape(input_text)\n",
    "\n",
    "    \n",
    "# Build the RNN cell\n",
    "lstm = tf.contrib.rnn.BasicLSTMCell(num_units=128)\n",
    "drop_cell = tf.contrib.rnn.DropoutWrapper(lstm, output_keep_prob=0.75)\n",
    "cell = tf.contrib.rnn.MultiRNNCell([drop_cell] * 1)\n",
    "\n",
    "# Set the initial state\n",
    "# initial_state = cell.zero_state(input_text_shape[0], tf.float32)\n",
    "# initial_state = tf.identity(initial_state, name='initial_state')\n",
    "\n",
    "# Create word embedding as input to RNN\n",
    "embed = tf.contrib.layers.embed_sequence(input_text, VOCAB_SIZE, EMBEDDING_SIZE)\n",
    "print(embed)\n",
    "\n",
    "# Build RNN\n",
    "outputs, final_state = tf.nn.dynamic_rnn(cell, embed, dtype=tf.float32)\n",
    "final_state = tf.identity(final_state, name='final_state')\n",
    "print(outputs)\n",
    "print(final_state)\n",
    "\n",
    "# Take RNN output and make logits\n",
    "logits = tf.contrib.layers.fully_connected(outputs, VOCAB_SIZE, activation_fn=None)\n",
    "print(logits)\n",
    "\n",
    "# Calculate the probability of generating each word\n",
    "# probs = tf.nn.softmax(logits, name='probs')\n",
    "probs = tf.contrib.seq2seq.hardmax(logits, name='probs')\n",
    "\n",
    "# Define loss function\n",
    "cost = tf.contrib.seq2seq.sequence_loss(logits, targets, tf.ones([input_text_shape[0], input_text_shape[1]]))\n",
    "\n",
    "# Learning rate optimizer\n",
    "optimizer = tf.train.AdamOptimizer(0.01)\n",
    "\n",
    "# Gradient clipping to avoid exploding gradients\n",
    "gradients = optimizer.compute_gradients(cost)\n",
    "capped_gradients = [(tf.clip_by_value(grad, -1., 1.), var) for grad, var in gradients if grad is not None]\n",
    "train_op = optimizer.apply_gradients(capped_gradients)"
   ]
  },
  {
   "cell_type": "code",
   "execution_count": null,
   "metadata": {},
   "outputs": [],
   "source": [
    "with tf.Session() as sess:\n",
    "    sess.run(tf.global_variables_initializer())\n",
    "    \n",
    "    for epoch in range(1000):\n",
    "        for i in range(len(sequences)):\n",
    "            feed_dict = {\n",
    "                input_text: np.asarray(sequences[i]).reshape(1, -1),\n",
    "                targets: np.asarray(sequences[i]).reshape(1, -1)\n",
    "            }\n",
    "            train_loss, _ = sess.run([cost, train_op], feed_dict)\n",
    "            \n",
    "        if epoch % 10 == 0:\n",
    "            print('train_loss: ', train_loss)"
   ]
  },
  {
   "cell_type": "code",
   "execution_count": null,
   "metadata": {
    "collapsed": true
   },
   "outputs": [],
   "source": []
  }
 ],
 "metadata": {
  "kernelspec": {
   "display_name": ".pyenv",
   "language": "python",
   "name": ".pyenv"
  },
  "language_info": {
   "codemirror_mode": {
    "name": "ipython",
    "version": 3
   },
   "file_extension": ".py",
   "mimetype": "text/x-python",
   "name": "python",
   "nbconvert_exporter": "python",
   "pygments_lexer": "ipython3",
   "version": "3.6.2"
  }
 },
 "nbformat": 4,
 "nbformat_minor": 2
}
